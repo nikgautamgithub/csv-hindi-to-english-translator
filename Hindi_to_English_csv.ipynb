{
  "nbformat": 4,
  "nbformat_minor": 0,
  "metadata": {
    "colab": {
      "provenance": []
    },
    "kernelspec": {
      "name": "python3",
      "display_name": "Python 3"
    },
    "language_info": {
      "name": "python"
    }
  },
  "cells": [
    {
      "cell_type": "code",
      "source": [
        "!pip install googletrans==3.1.0a0"
      ],
      "metadata": {
        "colab": {
          "base_uri": "https://localhost:8080/"
        },
        "id": "q9OmPvZmJ8P8",
        "outputId": "52730c97-0ea2-410f-ae24-ded5038821aa"
      },
      "execution_count": 1,
      "outputs": [
        {
          "output_type": "stream",
          "name": "stdout",
          "text": [
            "Collecting googletrans==3.1.0a0\n",
            "  Downloading googletrans-3.1.0a0.tar.gz (19 kB)\n",
            "  Preparing metadata (setup.py) ... \u001b[?25l\u001b[?25hdone\n",
            "Collecting httpx==0.13.3 (from googletrans==3.1.0a0)\n",
            "  Downloading httpx-0.13.3-py3-none-any.whl.metadata (25 kB)\n",
            "Requirement already satisfied: certifi in /usr/local/lib/python3.10/dist-packages (from httpx==0.13.3->googletrans==3.1.0a0) (2024.8.30)\n",
            "Collecting hstspreload (from httpx==0.13.3->googletrans==3.1.0a0)\n",
            "  Downloading hstspreload-2024.9.1-py3-none-any.whl.metadata (2.1 kB)\n",
            "Requirement already satisfied: sniffio in /usr/local/lib/python3.10/dist-packages (from httpx==0.13.3->googletrans==3.1.0a0) (1.3.1)\n",
            "Collecting chardet==3.* (from httpx==0.13.3->googletrans==3.1.0a0)\n",
            "  Downloading chardet-3.0.4-py2.py3-none-any.whl.metadata (3.2 kB)\n",
            "Collecting idna==2.* (from httpx==0.13.3->googletrans==3.1.0a0)\n",
            "  Downloading idna-2.10-py2.py3-none-any.whl.metadata (9.1 kB)\n",
            "Collecting rfc3986<2,>=1.3 (from httpx==0.13.3->googletrans==3.1.0a0)\n",
            "  Downloading rfc3986-1.5.0-py2.py3-none-any.whl.metadata (6.5 kB)\n",
            "Collecting httpcore==0.9.* (from httpx==0.13.3->googletrans==3.1.0a0)\n",
            "  Downloading httpcore-0.9.1-py3-none-any.whl.metadata (4.6 kB)\n",
            "Collecting h11<0.10,>=0.8 (from httpcore==0.9.*->httpx==0.13.3->googletrans==3.1.0a0)\n",
            "  Downloading h11-0.9.0-py2.py3-none-any.whl.metadata (8.1 kB)\n",
            "Collecting h2==3.* (from httpcore==0.9.*->httpx==0.13.3->googletrans==3.1.0a0)\n",
            "  Downloading h2-3.2.0-py2.py3-none-any.whl.metadata (32 kB)\n",
            "Collecting hyperframe<6,>=5.2.0 (from h2==3.*->httpcore==0.9.*->httpx==0.13.3->googletrans==3.1.0a0)\n",
            "  Downloading hyperframe-5.2.0-py2.py3-none-any.whl.metadata (7.2 kB)\n",
            "Collecting hpack<4,>=3.0 (from h2==3.*->httpcore==0.9.*->httpx==0.13.3->googletrans==3.1.0a0)\n",
            "  Downloading hpack-3.0.0-py2.py3-none-any.whl.metadata (7.0 kB)\n",
            "Downloading httpx-0.13.3-py3-none-any.whl (55 kB)\n",
            "\u001b[2K   \u001b[90m━━━━━━━━━━━━━━━━━━━━━━━━━━━━━━━━━━━━━━━━\u001b[0m \u001b[32m55.1/55.1 kB\u001b[0m \u001b[31m3.1 MB/s\u001b[0m eta \u001b[36m0:00:00\u001b[0m\n",
            "\u001b[?25hDownloading chardet-3.0.4-py2.py3-none-any.whl (133 kB)\n",
            "\u001b[2K   \u001b[90m━━━━━━━━━━━━━━━━━━━━━━━━━━━━━━━━━━━━━━━━\u001b[0m \u001b[32m133.4/133.4 kB\u001b[0m \u001b[31m7.8 MB/s\u001b[0m eta \u001b[36m0:00:00\u001b[0m\n",
            "\u001b[?25hDownloading httpcore-0.9.1-py3-none-any.whl (42 kB)\n",
            "\u001b[2K   \u001b[90m━━━━━━━━━━━━━━━━━━━━━━━━━━━━━━━━━━━━━━━━\u001b[0m \u001b[32m42.6/42.6 kB\u001b[0m \u001b[31m3.2 MB/s\u001b[0m eta \u001b[36m0:00:00\u001b[0m\n",
            "\u001b[?25hDownloading idna-2.10-py2.py3-none-any.whl (58 kB)\n",
            "\u001b[2K   \u001b[90m━━━━━━━━━━━━━━━━━━━━━━━━━━━━━━━━━━━━━━━━\u001b[0m \u001b[32m58.8/58.8 kB\u001b[0m \u001b[31m4.0 MB/s\u001b[0m eta \u001b[36m0:00:00\u001b[0m\n",
            "\u001b[?25hDownloading h2-3.2.0-py2.py3-none-any.whl (65 kB)\n",
            "\u001b[2K   \u001b[90m━━━━━━━━━━━━━━━━━━━━━━━━━━━━━━━━━━━━━━━━\u001b[0m \u001b[32m65.0/65.0 kB\u001b[0m \u001b[31m5.0 MB/s\u001b[0m eta \u001b[36m0:00:00\u001b[0m\n",
            "\u001b[?25hDownloading rfc3986-1.5.0-py2.py3-none-any.whl (31 kB)\n",
            "Downloading hstspreload-2024.9.1-py3-none-any.whl (1.2 MB)\n",
            "\u001b[2K   \u001b[90m━━━━━━━━━━━━━━━━━━━━━━━━━━━━━━━━━━━━━━━━\u001b[0m \u001b[32m1.2/1.2 MB\u001b[0m \u001b[31m32.1 MB/s\u001b[0m eta \u001b[36m0:00:00\u001b[0m\n",
            "\u001b[?25hDownloading h11-0.9.0-py2.py3-none-any.whl (53 kB)\n",
            "\u001b[2K   \u001b[90m━━━━━━━━━━━━━━━━━━━━━━━━━━━━━━━━━━━━━━━━\u001b[0m \u001b[32m53.6/53.6 kB\u001b[0m \u001b[31m2.7 MB/s\u001b[0m eta \u001b[36m0:00:00\u001b[0m\n",
            "\u001b[?25hDownloading hpack-3.0.0-py2.py3-none-any.whl (38 kB)\n",
            "Downloading hyperframe-5.2.0-py2.py3-none-any.whl (12 kB)\n",
            "Building wheels for collected packages: googletrans\n",
            "  Building wheel for googletrans (setup.py) ... \u001b[?25l\u001b[?25hdone\n",
            "  Created wheel for googletrans: filename=googletrans-3.1.0a0-py3-none-any.whl size=16353 sha256=bcc0e805ac7988192f401a55cba94fb6d01040bd8c8a5fe946ab0a1536b61641\n",
            "  Stored in directory: /root/.cache/pip/wheels/50/5d/3c/8477d0af4ca2b8b1308812c09f1930863caeebc762fe265a95\n",
            "Successfully built googletrans\n",
            "Installing collected packages: rfc3986, hyperframe, hpack, h11, chardet, idna, hstspreload, h2, httpcore, httpx, googletrans\n",
            "  Attempting uninstall: chardet\n",
            "    Found existing installation: chardet 5.2.0\n",
            "    Uninstalling chardet-5.2.0:\n",
            "      Successfully uninstalled chardet-5.2.0\n",
            "  Attempting uninstall: idna\n",
            "    Found existing installation: idna 3.10\n",
            "    Uninstalling idna-3.10:\n",
            "      Successfully uninstalled idna-3.10\n",
            "Successfully installed chardet-3.0.4 googletrans-3.1.0a0 h11-0.9.0 h2-3.2.0 hpack-3.0.0 hstspreload-2024.9.1 httpcore-0.9.1 httpx-0.13.3 hyperframe-5.2.0 idna-2.10 rfc3986-1.5.0\n"
          ]
        }
      ]
    },
    {
      "cell_type": "code",
      "source": [
        "import pandas as pd\n",
        "from googletrans import Translator\n",
        "import re\n",
        "import time\n",
        "\n",
        "# Function to detect Hindi text\n",
        "def is_hindi(text):\n",
        "    if pd.isna(text):\n",
        "        return False\n",
        "    hindi_range = re.compile(r'[\\u0900-\\u097F]+')\n",
        "    return bool(hindi_range.search(str(text)))\n",
        "\n",
        "# Read the CSV file\n",
        "df = pd.read_csv('/content/IndianFoodDatasetCSV.csv')\n",
        "\n",
        "# Initialize translator\n",
        "translator = Translator()\n",
        "\n",
        "# Prepare a list of texts to translate, only including Hindi text\n",
        "texts_to_translate = []\n",
        "indices_to_translate = []\n",
        "for index, text in enumerate(df['Instructions']):\n",
        "    if is_hindi(text):\n",
        "        texts_to_translate.append(text)\n",
        "        indices_to_translate.append(index)\n",
        "\n",
        "# Translate in batches\n",
        "batch_size = 100\n",
        "for i in range(0, len(texts_to_translate), batch_size):\n",
        "    batch = texts_to_translate[i:i+batch_size]\n",
        "    try:\n",
        "        translations = translator.translate(batch, src='hi', dest='en')\n",
        "        for j, translation in enumerate(translations):\n",
        "            texts_to_translate[i+j] = translation.text\n",
        "        print(f\"Translated batch {i//batch_size + 1}/{len(texts_to_translate)//batch_size + 1}\")\n",
        "        time.sleep(1)  # Short delay between batches\n",
        "    except Exception as e:\n",
        "        print(f\"Error in batch {i//batch_size + 1}: {e}\")\n",
        "\n",
        "# Update the dataframe with translations\n",
        "df['TranslatedInstructions'] = df['Instructions']  # Create a new column with original instructions\n",
        "for index, translation in zip(indices_to_translate, texts_to_translate):\n",
        "    df.at[index, 'TranslatedInstructions'] = translation\n",
        "\n",
        "# Save the updated CSV file\n",
        "df.to_csv('indian_food_recipes_english.csv', index=False)\n",
        "\n",
        "print(\"Translation complete. New file saved as 'indian_food_recipes_english.csv'\")"
      ],
      "metadata": {
        "colab": {
          "base_uri": "https://localhost:8080/"
        },
        "id": "0IKbZZmuz_Mu",
        "outputId": "30cd0523-59c0-4b36-9e84-5d656bcd8c48"
      },
      "execution_count": 3,
      "outputs": [
        {
          "output_type": "stream",
          "name": "stdout",
          "text": [
            "Translated batch 1/13\n",
            "Translated batch 2/13\n",
            "Translated batch 3/13\n",
            "Translated batch 4/13\n",
            "Translated batch 5/13\n",
            "Translated batch 6/13\n",
            "Translated batch 7/13\n",
            "Translated batch 8/13\n",
            "Translated batch 9/13\n",
            "Translated batch 10/13\n",
            "Translated batch 11/13\n",
            "Translated batch 12/13\n",
            "Translated batch 13/13\n",
            "Translation complete. New file saved as 'indian_food_recipes_english.csv'\n"
          ]
        }
      ]
    },
    {
      "cell_type": "code",
      "source": [
        "# Remove specified columns\n",
        "columns_to_remove = ['RecipeName', 'Ingredients', 'Instructions']\n",
        "# df = df.drop(columns=columns_to_remove)\n",
        "\n",
        "# Display the first few rows of the updated DataFrame\n",
        "df.head()\n",
        "\n",
        "# Display the list of remaining columns\n",
        "print(\"\\nRemaining columns:\")\n",
        "print(df.columns.tolist())\n",
        "\n",
        "# Save the updated DataFrame to a new CSV file\n",
        "df.to_csv('indian_food_recipes_updated.csv', index=False)\n",
        "print(\"\\nUpdated DataFrame saved to 'indian_food_recipes_updated.csv'\")"
      ],
      "metadata": {
        "colab": {
          "base_uri": "https://localhost:8080/"
        },
        "id": "vJfHErn6RB1q",
        "outputId": "07bbbe96-0c1a-4d51-b58b-4313eda1c5a7"
      },
      "execution_count": 8,
      "outputs": [
        {
          "output_type": "stream",
          "name": "stdout",
          "text": [
            "\n",
            "Remaining columns:\n",
            "['Srno', 'TranslatedRecipeName', 'TranslatedIngredients', 'PrepTimeInMins', 'CookTimeInMins', 'TotalTimeInMins', 'Servings', 'Cuisine', 'Course', 'Diet', 'TranslatedInstructions', 'URL']\n",
            "\n",
            "Updated DataFrame saved to 'indian_food_recipes_updated.csv'\n"
          ]
        }
      ]
    },
    {
      "cell_type": "code",
      "source": [
        "# Load the CSV file\n",
        "udf = pd.read_csv('indian_food_recipes_updated.csv')\n",
        "\n",
        "# Initialize translator\n",
        "translator = Translator()\n",
        "\n",
        "# Prepare a list of texts to translate\n",
        "texts_to_translate = []\n",
        "cells_to_update = []\n",
        "\n",
        "for column in udf.columns:\n",
        "    for index, cell in enumerate(udf[column]):\n",
        "        if is_hindi(cell):\n",
        "            texts_to_translate.append(str(cell))\n",
        "            cells_to_update.append((index, column))\n",
        "\n",
        "# Translate in batches\n",
        "batch_size = 100\n",
        "for i in range(0, len(texts_to_translate), batch_size):\n",
        "    batch = texts_to_translate[i:i+batch_size]\n",
        "    try:\n",
        "        translations = translator.translate(batch, src='hi', dest='en')\n",
        "        for j, translation in enumerate(translations):\n",
        "            index, column = cells_to_update[i+j]\n",
        "            udf.at[index, column] = translation.text\n",
        "        print(f\"Translated batch {i//batch_size + 1}/{len(texts_to_translate)//batch_size + 1}\")\n",
        "        time.sleep(1)  # Short delay between batches\n",
        "    except Exception as e:\n",
        "        print(f\"Error in batch {i//batch_size + 1}: {e}\")\n",
        "\n",
        "# Save the updated CSV file\n",
        "udf.to_csv('indian_food_recipes_fully_english.csv', index=False)\n",
        "\n",
        "print(\"Translation complete. New file saved as 'indian_food_recipes_fully_english.csv'\")\n",
        "print(f\"Total cells translated: {len(texts_to_translate)}\")\n",
        "\n",
        "# Display a sample of updated rows\n",
        "print(\"\\nSample of updated rows:\")\n",
        "print(udf.sample(5))"
      ],
      "metadata": {
        "colab": {
          "base_uri": "https://localhost:8080/"
        },
        "id": "O0_hmRFwSps9",
        "outputId": "e638a899-bdf8-4cfe-feff-a09bd2806f5d"
      },
      "execution_count": 9,
      "outputs": [
        {
          "output_type": "stream",
          "name": "stdout",
          "text": [
            "Translated batch 1/6\n",
            "Translated batch 2/6\n",
            "Translated batch 3/6\n",
            "Translated batch 4/6\n",
            "Translated batch 5/6\n",
            "Translated batch 6/6\n",
            "Translation complete. New file saved as 'indian_food_recipes_fully_english.csv'\n",
            "Total cells translated: 569\n",
            "\n",
            "Sample of updated rows:\n",
            "       Srno                               TranslatedRecipeName  \\\n",
            "5436   8019                     Pakistani Roasted Gosht Recipe   \n",
            "6210  10182  Coorg Style Kaad Manga Curry Recipe -Sweet & S...   \n",
            "4404   5907                      Cheese Masala Omelette Recipe   \n",
            "3862   5013    Bengali Doi Maach Recipe (Fish In Yogurt Curry)   \n",
            "3196   3933            Lauki Moongphali Soup (Recipe In Hindi)   \n",
            "\n",
            "                                  TranslatedIngredients  PrepTimeInMins  \\\n",
            "5436  750 grams Mutton - cut into medium pieces,6 On...              10   \n",
            "6210  4 Mango (Ripe) - small variety,5 Green Chillie...              15   \n",
            "4404  2 Whole Eggs,2 tablespoons Onion - finely chop...              10   \n",
            "3862  400 grams Rohu fish - sliced,1 Onion - sliced,...              10   \n",
            "3196  200 grams gourd, 1 green chili, 1 ginger - sma...              30   \n",
            "\n",
            "      CookTimeInMins  TotalTimeInMins  Servings          Cuisine  \\\n",
            "5436              60               70         5        Pakistani   \n",
            "6210              15               30         4            Coorg   \n",
            "4404              15               25         1           Indian   \n",
            "3862              30               40         4  Bengali Recipes   \n",
            "3196              15               45         2           Indian   \n",
            "\n",
            "                Course            Diet  \\\n",
            "5436            Dinner  Non Vegeterian   \n",
            "6210         Side Dish      Vegetarian   \n",
            "4404  Indian Breakfast      Eggetarian   \n",
            "3862             Lunch  Non Vegeterian   \n",
            "3196         Side Dish      Vegetarian   \n",
            "\n",
            "                                 TranslatedInstructions  \\\n",
            "5436  To begin making the Pakistani Bhuna Gosht reci...   \n",
            "6210  To begin making Coorg Style Kaad Manga Curry R...   \n",
            "4404  To begin making the Cheese Masala Omelette Rec...   \n",
            "3862  To begin making the Bengali Doi Maach recipe, ...   \n",
            "3196  To make bottle gourd peanut soup, first of all...   \n",
            "\n",
            "                                                    URL  \n",
            "5436  https://www.archanaskitchen.com/pakistani-bhun...  \n",
            "6210  https://www.archanaskitchen.com/coorg-style-ka...  \n",
            "4404  http://www.archanaskitchen.com/cheese-masala-o...  \n",
            "3862  https://www.archanaskitchen.com/bengali-doi-ma...  \n",
            "3196  http://www.archanaskitchen.com/lauki-moongphal...  \n"
          ]
        }
      ]
    }
  ]
}